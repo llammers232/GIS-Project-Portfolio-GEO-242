{
  "nbformat": 4,
  "nbformat_minor": 0,
  "metadata": {
    "colab": {
      "provenance": [],
      "include_colab_link": true
    },
    "kernelspec": {
      "name": "python3",
      "display_name": "Python 3"
    },
    "language_info": {
      "name": "python"
    }
  },
  "cells": [
    {
      "cell_type": "markdown",
      "metadata": {
        "id": "view-in-github",
        "colab_type": "text"
      },
      "source": [
        "<a href=\"https://colab.research.google.com/github/llammers232/GIS-Project-Portfolio-GEO-242/blob/main/basic-mapping/first-qgis-mapping.ipynb\" target=\"_parent\"><img src=\"https://colab.research.google.com/assets/colab-badge.svg\" alt=\"Open In Colab\"/></a>"
      ]
    },
    {
      "cell_type": "markdown",
      "source": [
        "## **GEO 242A Week 2 Assignment: Cartography**"
      ],
      "metadata": {
        "id": "C0ymCPR5aSHN"
      }
    },
    {
      "cell_type": "markdown",
      "source": [
        "🚀 Created by Lauryn Lammers\n",
        "\n",
        "[09/04/2024]"
      ],
      "metadata": {
        "id": "Pt_OREXFPvkr"
      }
    },
    {
      "cell_type": "markdown",
      "source": [
        "### **Get ready to start**\n",
        "\n",
        "- Use **`File\\Save a copy in Drive`** to make a copy of this notebook in my own Google Drive\n",
        "- By default, this notebooks will be saved to a new folder called **`Colab`** under root directory of my Google Drive"
      ],
      "metadata": {
        "id": "v84Fkx0LHARM"
      }
    },
    {
      "cell_type": "markdown",
      "source": [
        "### **Map North American Rivers and Basins**\n",
        "\n",
        "1. **Original shareable link of the map**\n",
        "\n",
        "```markdown\n",
        "https://drive.google.com/file/d/1h1hVpVuGLiAzhB9xM86CxkzGk1ZrE8S0/view?usp=sharing\n",
        "```\n",
        "\n",
        "2. **Obtain a shareable link**\n",
        "\n",
        "   - The default link I get for this picture file cannot be directly used in Notebook to show the picture correctly\n",
        "   - I made some changes to the default sharable link:\n",
        "    - Deleted **`/view?usp=sharing`** at the end of the link\n",
        "    - Replaced **`/file/d/`** with **`/uc?export=view&id=`**\n",
        "   - Below is a link I can use to insert a picture in Google Colab notebook\n",
        "\n",
        "```markdown\n",
        "https://drive.google.com/uc?export=view&id=1h1hVpVuGLiAzhB9xM86CxkzGk1ZrE8S0\n",
        "```\n",
        "\n",
        "3. **Map of North American Rivers and Basins**\n",
        "  - Use the link above and the syntax in [this link](https://www.markdownguide.org/cheat-sheet/), I can insert the map I prepared down here\n",
        "\n",
        "![Map](https://drive.google.com/uc?export=view&id=1h1hVpVuGLiAzhB9xM86CxkzGk1ZrE8S0)"
      ],
      "metadata": {
        "id": "WVs4J1jQbESU"
      }
    },
    {
      "cell_type": "markdown",
      "source": [
        "### **Reflection on my first experience mapping with QGIS**\n",
        "\n",
        "- I spent 2 hours to make my first map in QGIS\n",
        "- Here is how I rate my first experience working in markdown\n",
        "  - Data managaement and organization\n",
        "    - At first I was confused how everything was set up. I accidentally deleted the browse and layers tabs on the side and it took me a while to figure out how to get them back.\n",
        "    - I would have been extremely lost without the walkthrough, so it was very helpful to have that to refer to and go step by step.\n",
        "    - Overall, I would rate my experience a 7/10 with the data management and organization.\n",
        "  - Cartographic functionalities, including changing colors/symbols of layers, adding map elements, exporting a map\n",
        "    - I accidentally did the print layout wrong the first time. So I had to do it twice but it turned out a lot better the second time.  \n",
        "    - I found that changing the colors and adding the different layers to the map was simple and straight forward. I found that it was easy to navigate through those steps and add the different map elements.\n",
        "    - Overall, I would rate my experience a 8/10 with cartographic functionalities."
      ],
      "metadata": {
        "id": "i4RTLellbUh7"
      }
    },
    {
      "cell_type": "markdown",
      "source": [
        "### **Save and share this notebook**\n",
        "\n",
        "- Below is a publicly viewable link to this notebook\n",
        "\n",
        "```markdown\n",
        "https://colab.research.google.com/drive/1VlrfFaz6lX7DbTYZaDJi3AJQ2CYN9YEM?usp=sharing\n",
        "```"
      ],
      "metadata": {
        "id": "kkgukjDcXsqC"
      }
    },
    {
      "cell_type": "markdown",
      "source": [
        "### **Reference**\n",
        "\n",
        "- [Markdown cheat sheet](https://www.markdownguide.org/cheat-sheet/)\n",
        "- [Insert other references if available]"
      ],
      "metadata": {
        "id": "fvMbEX89YLeY"
      }
    }
  ]
}